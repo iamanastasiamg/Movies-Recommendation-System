{
 "cells": [
  {
   "cell_type": "markdown",
   "id": "80316f9d-6c7e-4a83-98e3-47745f318e4f",
   "metadata": {},
   "source": [
    "### Recommender Systems – Exercise"
   ]
  },
  {
   "cell_type": "markdown",
   "id": "368998c0-fc50-4cc9-a19c-15caa1219037",
   "metadata": {},
   "source": [
    "##### Import the libraries necessary for this project."
   ]
  },
  {
   "cell_type": "code",
   "execution_count": 1,
   "id": "7b752176-267b-4c45-aca2-8a7727781137",
   "metadata": {},
   "outputs": [],
   "source": [
    "import numpy as np\n",
    "import pandas as pd\n",
    "from scipy.sparse import csr_matrix\n",
    "from scipy.sparse.linalg import svds\n",
    "from tqdm import tqdm\n",
    "from sklearn.metrics import mean_squared_error\n",
    "from sklearn.feature_extraction.text import TfidfVectorizer\n",
    "from sklearn.metrics.pairwise import cosine_similarity"
   ]
  },
  {
   "cell_type": "markdown",
   "id": "03be0bba-4054-490d-9682-4feee971b107",
   "metadata": {},
   "source": [
    "##### Load the ratings, movies and plots data. "
   ]
  },
  {
   "cell_type": "code",
   "execution_count": 2,
   "id": "92a5a7d6-9485-4568-8353-cc53ffd219cb",
   "metadata": {},
   "outputs": [
    {
     "data": {
      "text/html": [
       "<div>\n",
       "<style scoped>\n",
       "    .dataframe tbody tr th:only-of-type {\n",
       "        vertical-align: middle;\n",
       "    }\n",
       "\n",
       "    .dataframe tbody tr th {\n",
       "        vertical-align: top;\n",
       "    }\n",
       "\n",
       "    .dataframe thead th {\n",
       "        text-align: right;\n",
       "    }\n",
       "</style>\n",
       "<table border=\"1\" class=\"dataframe\">\n",
       "  <thead>\n",
       "    <tr style=\"text-align: right;\">\n",
       "      <th></th>\n",
       "      <th>UserID</th>\n",
       "      <th>MovieID</th>\n",
       "      <th>Rating</th>\n",
       "      <th>Timestamp</th>\n",
       "    </tr>\n",
       "  </thead>\n",
       "  <tbody>\n",
       "    <tr>\n",
       "      <th>0</th>\n",
       "      <td>1</td>\n",
       "      <td>122</td>\n",
       "      <td>5.0</td>\n",
       "      <td>838985046</td>\n",
       "    </tr>\n",
       "    <tr>\n",
       "      <th>1</th>\n",
       "      <td>1</td>\n",
       "      <td>185</td>\n",
       "      <td>5.0</td>\n",
       "      <td>838983525</td>\n",
       "    </tr>\n",
       "    <tr>\n",
       "      <th>2</th>\n",
       "      <td>1</td>\n",
       "      <td>231</td>\n",
       "      <td>5.0</td>\n",
       "      <td>838983392</td>\n",
       "    </tr>\n",
       "    <tr>\n",
       "      <th>3</th>\n",
       "      <td>1</td>\n",
       "      <td>292</td>\n",
       "      <td>5.0</td>\n",
       "      <td>838983421</td>\n",
       "    </tr>\n",
       "    <tr>\n",
       "      <th>4</th>\n",
       "      <td>1</td>\n",
       "      <td>316</td>\n",
       "      <td>5.0</td>\n",
       "      <td>838983392</td>\n",
       "    </tr>\n",
       "  </tbody>\n",
       "</table>\n",
       "</div>"
      ],
      "text/plain": [
       "   UserID  MovieID  Rating  Timestamp\n",
       "0       1      122     5.0  838985046\n",
       "1       1      185     5.0  838983525\n",
       "2       1      231     5.0  838983392\n",
       "3       1      292     5.0  838983421\n",
       "4       1      316     5.0  838983392"
      ]
     },
     "execution_count": 2,
     "metadata": {},
     "output_type": "execute_result"
    }
   ],
   "source": [
    "ratings_df = pd.read_csv('ml-10M100K/ratings.dat', sep='::', header=None, names=['UserID', 'MovieID', 'Rating', 'Timestamp'], engine='python')\n",
    "ratings_df.head()"
   ]
  },
  {
   "cell_type": "code",
   "execution_count": 3,
   "id": "9928c267-e222-4e90-93dc-c3a6cf4626a9",
   "metadata": {},
   "outputs": [
    {
     "data": {
      "text/html": [
       "<div>\n",
       "<style scoped>\n",
       "    .dataframe tbody tr th:only-of-type {\n",
       "        vertical-align: middle;\n",
       "    }\n",
       "\n",
       "    .dataframe tbody tr th {\n",
       "        vertical-align: top;\n",
       "    }\n",
       "\n",
       "    .dataframe thead th {\n",
       "        text-align: right;\n",
       "    }\n",
       "</style>\n",
       "<table border=\"1\" class=\"dataframe\">\n",
       "  <thead>\n",
       "    <tr style=\"text-align: right;\">\n",
       "      <th></th>\n",
       "      <th>MovieID</th>\n",
       "      <th>Title</th>\n",
       "      <th>Genres</th>\n",
       "    </tr>\n",
       "  </thead>\n",
       "  <tbody>\n",
       "    <tr>\n",
       "      <th>0</th>\n",
       "      <td>1</td>\n",
       "      <td>Toy Story (1995)</td>\n",
       "      <td>Adventure|Animation|Children|Comedy|Fantasy</td>\n",
       "    </tr>\n",
       "    <tr>\n",
       "      <th>1</th>\n",
       "      <td>2</td>\n",
       "      <td>Jumanji (1995)</td>\n",
       "      <td>Adventure|Children|Fantasy</td>\n",
       "    </tr>\n",
       "    <tr>\n",
       "      <th>2</th>\n",
       "      <td>3</td>\n",
       "      <td>Grumpier Old Men (1995)</td>\n",
       "      <td>Comedy|Romance</td>\n",
       "    </tr>\n",
       "    <tr>\n",
       "      <th>3</th>\n",
       "      <td>4</td>\n",
       "      <td>Waiting to Exhale (1995)</td>\n",
       "      <td>Comedy|Drama|Romance</td>\n",
       "    </tr>\n",
       "    <tr>\n",
       "      <th>4</th>\n",
       "      <td>5</td>\n",
       "      <td>Father of the Bride Part II (1995)</td>\n",
       "      <td>Comedy</td>\n",
       "    </tr>\n",
       "  </tbody>\n",
       "</table>\n",
       "</div>"
      ],
      "text/plain": [
       "   MovieID                               Title  \\\n",
       "0        1                    Toy Story (1995)   \n",
       "1        2                      Jumanji (1995)   \n",
       "2        3             Grumpier Old Men (1995)   \n",
       "3        4            Waiting to Exhale (1995)   \n",
       "4        5  Father of the Bride Part II (1995)   \n",
       "\n",
       "                                        Genres  \n",
       "0  Adventure|Animation|Children|Comedy|Fantasy  \n",
       "1                   Adventure|Children|Fantasy  \n",
       "2                               Comedy|Romance  \n",
       "3                         Comedy|Drama|Romance  \n",
       "4                                       Comedy  "
      ]
     },
     "execution_count": 3,
     "metadata": {},
     "output_type": "execute_result"
    }
   ],
   "source": [
    "movies_df = pd.read_csv('ml-10M100K/movies.dat', sep='::', header=None, names=['MovieID', 'Title', 'Genres'], engine='python')\n",
    "movies_df.head()"
   ]
  },
  {
   "cell_type": "code",
   "execution_count": 4,
   "id": "1950ca72-5ff5-45ee-9385-d63e4015db5a",
   "metadata": {},
   "outputs": [
    {
     "data": {
      "text/html": [
       "<div>\n",
       "<style scoped>\n",
       "    .dataframe tbody tr th:only-of-type {\n",
       "        vertical-align: middle;\n",
       "    }\n",
       "\n",
       "    .dataframe tbody tr th {\n",
       "        vertical-align: top;\n",
       "    }\n",
       "\n",
       "    .dataframe thead th {\n",
       "        text-align: right;\n",
       "    }\n",
       "</style>\n",
       "<table border=\"1\" class=\"dataframe\">\n",
       "  <thead>\n",
       "    <tr style=\"text-align: right;\">\n",
       "      <th></th>\n",
       "      <th>Release Year</th>\n",
       "      <th>Title</th>\n",
       "      <th>Origin/Ethnicity</th>\n",
       "      <th>Director</th>\n",
       "      <th>Cast</th>\n",
       "      <th>Genre</th>\n",
       "      <th>Wiki Page</th>\n",
       "      <th>Plot</th>\n",
       "    </tr>\n",
       "  </thead>\n",
       "  <tbody>\n",
       "    <tr>\n",
       "      <th>0</th>\n",
       "      <td>1901</td>\n",
       "      <td>Kansas Saloon Smashers</td>\n",
       "      <td>American</td>\n",
       "      <td>Unknown</td>\n",
       "      <td>NaN</td>\n",
       "      <td>unknown</td>\n",
       "      <td>https://en.wikipedia.org/wiki/Kansas_Saloon_Sm...</td>\n",
       "      <td>A bartender is working at a saloon, serving dr...</td>\n",
       "    </tr>\n",
       "    <tr>\n",
       "      <th>1</th>\n",
       "      <td>1901</td>\n",
       "      <td>Love by the Light of the Moon</td>\n",
       "      <td>American</td>\n",
       "      <td>Unknown</td>\n",
       "      <td>NaN</td>\n",
       "      <td>unknown</td>\n",
       "      <td>https://en.wikipedia.org/wiki/Love_by_the_Ligh...</td>\n",
       "      <td>The moon, painted with a smiling face hangs ov...</td>\n",
       "    </tr>\n",
       "    <tr>\n",
       "      <th>2</th>\n",
       "      <td>1901</td>\n",
       "      <td>The Martyred Presidents</td>\n",
       "      <td>American</td>\n",
       "      <td>Unknown</td>\n",
       "      <td>NaN</td>\n",
       "      <td>unknown</td>\n",
       "      <td>https://en.wikipedia.org/wiki/The_Martyred_Pre...</td>\n",
       "      <td>The film, just over a minute long, is composed...</td>\n",
       "    </tr>\n",
       "    <tr>\n",
       "      <th>3</th>\n",
       "      <td>1901</td>\n",
       "      <td>Terrible Teddy, the Grizzly King</td>\n",
       "      <td>American</td>\n",
       "      <td>Unknown</td>\n",
       "      <td>NaN</td>\n",
       "      <td>unknown</td>\n",
       "      <td>https://en.wikipedia.org/wiki/Terrible_Teddy,_...</td>\n",
       "      <td>Lasting just 61 seconds and consisting of two ...</td>\n",
       "    </tr>\n",
       "    <tr>\n",
       "      <th>4</th>\n",
       "      <td>1902</td>\n",
       "      <td>Jack and the Beanstalk</td>\n",
       "      <td>American</td>\n",
       "      <td>George S. Fleming, Edwin S. Porter</td>\n",
       "      <td>NaN</td>\n",
       "      <td>unknown</td>\n",
       "      <td>https://en.wikipedia.org/wiki/Jack_and_the_Bea...</td>\n",
       "      <td>The earliest known adaptation of the classic f...</td>\n",
       "    </tr>\n",
       "  </tbody>\n",
       "</table>\n",
       "</div>"
      ],
      "text/plain": [
       "   Release Year                             Title Origin/Ethnicity  \\\n",
       "0          1901            Kansas Saloon Smashers         American   \n",
       "1          1901     Love by the Light of the Moon         American   \n",
       "2          1901           The Martyred Presidents         American   \n",
       "3          1901  Terrible Teddy, the Grizzly King         American   \n",
       "4          1902            Jack and the Beanstalk         American   \n",
       "\n",
       "                             Director Cast    Genre  \\\n",
       "0                             Unknown  NaN  unknown   \n",
       "1                             Unknown  NaN  unknown   \n",
       "2                             Unknown  NaN  unknown   \n",
       "3                             Unknown  NaN  unknown   \n",
       "4  George S. Fleming, Edwin S. Porter  NaN  unknown   \n",
       "\n",
       "                                           Wiki Page  \\\n",
       "0  https://en.wikipedia.org/wiki/Kansas_Saloon_Sm...   \n",
       "1  https://en.wikipedia.org/wiki/Love_by_the_Ligh...   \n",
       "2  https://en.wikipedia.org/wiki/The_Martyred_Pre...   \n",
       "3  https://en.wikipedia.org/wiki/Terrible_Teddy,_...   \n",
       "4  https://en.wikipedia.org/wiki/Jack_and_the_Bea...   \n",
       "\n",
       "                                                Plot  \n",
       "0  A bartender is working at a saloon, serving dr...  \n",
       "1  The moon, painted with a smiling face hangs ov...  \n",
       "2  The film, just over a minute long, is composed...  \n",
       "3  Lasting just 61 seconds and consisting of two ...  \n",
       "4  The earliest known adaptation of the classic f...  "
      ]
     },
     "execution_count": 4,
     "metadata": {},
     "output_type": "execute_result"
    }
   ],
   "source": [
    "plots_df = pd.read_csv(\"datasets/wiki_movie_plots_deduped.csv\", encoding=\"utf-8\")\n",
    "plots_df.head()"
   ]
  },
  {
   "cell_type": "markdown",
   "id": "792ff2e8-0599-45ea-a07c-6f7bd6043fc8",
   "metadata": {},
   "source": [
    "##### Merge the two datasets on movieId. Calculate the average rating for each genre."
   ]
  },
  {
   "cell_type": "code",
   "execution_count": 5,
   "id": "2302ecf1-5419-456c-a391-be68c86b93d8",
   "metadata": {},
   "outputs": [
    {
     "name": "stdout",
     "output_type": "stream",
     "text": [
      "The Top 5 Genres:\n",
      " Genre\n",
      "Film-Noir      4.012151\n",
      "Documentary    3.783459\n",
      "War            3.780173\n",
      "IMAX           3.764537\n",
      "Mystery        3.677631\n",
      "Name: Rating, dtype: float64\n"
     ]
    }
   ],
   "source": [
    "# Merge the datasets\n",
    "df = pd.merge(ratings_df, movies_df, on='MovieID')\n",
    "\n",
    "# Split the genres into separate rows\n",
    "df = df.join(df['Genres'].str.split('|', expand=True).stack().reset_index(level=1, drop=True).rename('Genre'))\n",
    "\n",
    "# Calculate the average rating for each genre\n",
    "genre_ratings = df.groupby('Genre')['Rating'].mean().sort_values(ascending=False)\n",
    "\n",
    "# Get the top 5 genres based on average rating\n",
    "print(\"The Top 5 Genres:\\n\", genre_ratings.head(5))"
   ]
  },
  {
   "cell_type": "markdown",
   "id": "7990e8c0-631f-4637-9822-1a761747469c",
   "metadata": {},
   "source": [
    "##### Suggest five movies to a new user that are most popular and top rated."
   ]
  },
  {
   "cell_type": "code",
   "execution_count": 6,
   "id": "af09d203-398f-41b9-9058-0b8b5a1107c5",
   "metadata": {},
   "outputs": [
    {
     "name": "stdout",
     "output_type": "stream",
     "text": [
      "Five Movies Suggestions:\n",
      "                                             average_rating  num_ratings\n",
      "MovieID Title                                                          \n",
      "1       Toy Story (1995)                          3.928769       132245\n",
      "2       Jumanji (1995)                            3.208070        36096\n",
      "3       Grumpier Old Men (1995)                   3.150385        15580\n",
      "4       Waiting to Exhale (1995)                  2.860544         5292\n",
      "5       Father of the Bride Part II (1995)        3.077435         7135\n"
     ]
    }
   ],
   "source": [
    "def movies_suggestions(ratings_df, min_ratings=1000, top_n=5):\n",
    "    top_rated_movies = ratings_df.groupby(['MovieID','Title']).agg({'Rating': ['mean', 'count']})\n",
    "    top_rated_movies.columns = ['average_rating', 'num_ratings']\n",
    "    filtered_movies = top_rated_movies[top_rated_movies['num_ratings'] >= min_ratings]\n",
    "    return filtered_movies.head(top_n)\n",
    "\n",
    "print(\"Five Movies Suggestions:\\n\", movies_suggestions(df))\n",
    "# Based on the analysis, we will suggest five movies that are popular and top rated.\n",
    "# These suggestions are based on their popularity and ratings, ensuring a well-rounded selection for a new user."
   ]
  },
  {
   "cell_type": "markdown",
   "id": "0e605ce1-1957-43d5-824f-aa1bc4a693ed",
   "metadata": {},
   "source": [
    "##### Add the new user's ratings to the ratings table."
   ]
  },
  {
   "cell_type": "code",
   "execution_count": 7,
   "id": "3b460443-84fd-46bb-9e50-395f260ab79a",
   "metadata": {},
   "outputs": [
    {
     "name": "stdout",
     "output_type": "stream",
     "text": [
      "          UserID  MovieID  Rating  Timestamp\n",
      "10000054   71568      173     5.0        NaN\n",
      "10000055   71568      208     5.0        NaN\n",
      "10000056   71568       76     4.0        NaN\n",
      "10000057   71568        2     3.0        NaN\n"
     ]
    }
   ],
   "source": [
    "# Find the maximum UserID\n",
    "new_user_id = ratings_df['UserID'].max() + 1\n",
    "\n",
    "# List of new ratings\n",
    "new_ratings_list = [\n",
    "    {'Title': 'Judge Dredd', 'Rating': 5},\n",
    "    {'Title': 'Waterworld', 'Rating': 5},\n",
    "    {'Title': 'Screamers', 'Rating': 4},\n",
    "    {'Title': 'Jumanji', 'Rating': 3},\n",
    "]\n",
    "\n",
    "# Initialize an empty list to store new ratings and new movie entries\n",
    "new_ratings = []\n",
    "new_movies = []\n",
    "\n",
    "# Check if each new movie title exists in the movies DataFrame\n",
    "for counter, rating in enumerate(new_ratings_list):\n",
    "    if movies_df['Title'].str.contains(rating['Title']).any():\n",
    "        movie_row = movies_df[movies_df['Title'].str.contains(rating['Title'])]\n",
    "        new_ratings.append({'UserID': new_user_id, 'MovieID': movie_row['MovieID'].values[0], 'Rating': rating['Rating']})\n",
    "    else:\n",
    "        counter += 1\n",
    "        new_movie_id = movies_df['MovieID'].max() + counter\n",
    "        new_movies.append({'MovieID': new_movie_id, 'Title': rating['Title']})\n",
    "        new_ratings.append({'UserID': new_user_id, 'MovieID': new_movie_id, 'Rating': rating['Rating']})\n",
    "\n",
    "# Add new movies to movies table and new user ratings to ratings table\n",
    "movies_df = pd.concat([movies_df, pd.DataFrame(new_movies)], ignore_index=True)\n",
    "ratings_df = pd.concat([ratings_df, pd.DataFrame(new_ratings)], ignore_index=True)\n",
    "print(ratings_df[ratings_df['UserID'] == new_user_id])\n",
    "\n",
    "#Find Maximum UserID: Identify the maximum UserID and increase it by one to get the new UserID.\n",
    "#New User's Ratings: Define the new user's ratings for the specified movies.\n",
    "#Add to Ratings Table: Convert the new ratings to a DataFrame and concatenate it with the existing ratings table."
   ]
  },
  {
   "cell_type": "markdown",
   "id": "6c827259-73c6-431f-845a-02fbb916b74b",
   "metadata": {},
   "source": [
    "##### The following code snippet provided in the course materials (matrix_factorization)."
   ]
  },
  {
   "cell_type": "code",
   "execution_count": 25,
   "id": "221b97bd-ef2c-4f9e-9f0e-9df3d8571dac",
   "metadata": {},
   "outputs": [
    {
     "name": "stderr",
     "output_type": "stream",
     "text": [
      "100%|██████████████████████████████████████████████████████████████████████████████████████████████████████████████████████████████████████████████████████████████████████████████████████████████| 10/10 [00:45<00:00,  4.52s/it]"
     ]
    },
    {
     "name": "stdout",
     "output_type": "stream",
     "text": [
      "Recommended movies for the new user: \n",
      " 953                      Godfather, The (1972)\n",
      "4352    Monty Python and the Holy Grail (1975)\n",
      "5393                         Annie Hall (1977)\n",
      "6919          Shawshank Redemption, The (1994)\n",
      "130                          Casablanca (1942)\n",
      "Name: Title, dtype: object\n"
     ]
    },
    {
     "name": "stderr",
     "output_type": "stream",
     "text": [
      "\n"
     ]
    }
   ],
   "source": [
    "def matrix_factorization_with_regularization(ratings_df, n_factors=10, learning_rate=0.01, regularization=0.1, n_iterations=100):\n",
    "    \"\"\"Performs matrix factorization with L2 regularization using gradient descent.\"\"\"\n",
    "\n",
    "    # Create mappings for UserIDs and MovieIDs to sequential indices\n",
    "    user_map = {user_id: index for index, user_id in enumerate(ratings_df['UserID'].unique())}\n",
    "    movie_map = {movie_id: index for index, movie_id in enumerate(ratings_df['MovieID'].unique())}\n",
    "\n",
    "    n_users = len(user_map)\n",
    "    n_movies = len(movie_map)\n",
    "\n",
    "    # Create the ratings matrix using pivot_table and the maps\n",
    "    ratings_matrix = np.zeros((n_users, n_movies))\n",
    "    for index, row in ratings_df.iterrows():\n",
    "        user_idx = user_map[row['UserID']]\n",
    "        movie_idx = movie_map[row['MovieID']]\n",
    "        ratings_matrix[user_idx, movie_idx] = row['Rating']\n",
    "\n",
    "    # Initialize user and movie latent factors randomly\n",
    "    user_factors = np.random.rand(n_users, n_factors)\n",
    "    movie_factors = np.random.rand(n_movies, n_factors)\n",
    "\n",
    "    # Gradient descent\n",
    "    for _ in tqdm(range(n_iterations)):\n",
    "        for u in range(n_users):\n",
    "            for i in range(n_movies):\n",
    "                if ratings_matrix[u, i] > 0:\n",
    "                    error = ratings_matrix[u, i] - np.dot(user_factors[u], movie_factors[i])\n",
    "\n",
    "                    # Update factors with regularization\n",
    "                    user_factors[u] += learning_rate * (error * movie_factors[i] - regularization * user_factors[u])\n",
    "                    movie_factors[i] += learning_rate * (error * user_factors[u] - regularization * movie_factors[i])\n",
    "\n",
    "    return user_factors, movie_factors, user_map, movie_map\n",
    "\n",
    "def predict_rating(user_id, movie_id, user_factors, movie_factors, user_map, movie_map):\n",
    "    \"\"\"Predicts the rating for a given user-movie pair.\"\"\"\n",
    "    try:\n",
    "        user_idx = user_map[user_id]\n",
    "        movie_idx = movie_map[movie_id]\n",
    "        return np.dot(user_factors[user_idx], movie_factors[movie_idx])\n",
    "    except KeyError:\n",
    "        return None\n",
    "\n",
    "ratings_df_small = ratings_df.sample(frac=0.001, random_state=42)\n",
    "user_factors, movie_factors, user_map, movie_map = matrix_factorization_with_regularization(ratings_df_small, regularization=0.01,n_iterations=10)\n",
    "ratings_df_small['predicted'] = ratings_df_small.apply(lambda x: predict_rating(int(x['UserID']), int(x['MovieID']), user_factors, movie_factors, user_map, movie_map), axis=1)\n",
    "ratings_df_small['squared_error'] = (ratings_df_small['Rating'] - ratings_df_small['predicted'])**2\n",
    "ratings_df_small.head()\n",
    "\n",
    "# Predict ratings for a new user.\n",
    "top_movies = pd.merge(ratings_df_small, movies_df, on='MovieID')\n",
    "top_movies = top_movies.sort_values(by=['predicted'], ascending=False)\n",
    "print(\"Recommended movies for the new user: \\n\",top_movies['Title'][:5])"
   ]
  },
  {
   "cell_type": "markdown",
   "id": "b000a663-4ac2-4f49-8780-5551e4941a66",
   "metadata": {},
   "source": [
    "##### Content-based Filtering"
   ]
  },
  {
   "cell_type": "code",
   "execution_count": 24,
   "id": "9921e74b-f8fb-483a-b631-2b6a056f5cf1",
   "metadata": {},
   "outputs": [
    {
     "name": "stdout",
     "output_type": "stream",
     "text": [
      "Recommendations for Judge Dredd:\n",
      "\n",
      "21246            Dredd (2012)\n",
      "1154     Little Caesar (1931)\n",
      "Name: Title, dtype: object\n"
     ]
    }
   ],
   "source": [
    "plots_df['Title'] = plots_df['Title'] + ' (' + plots_df['Release Year'].astype(str) + ')'\n",
    "tfidf = TfidfVectorizer(stop_words=\"english\")\n",
    "plots_df['Plot'] = plots_df['Plot'].fillna(\"\")\n",
    "tfidf_matrix = tfidf.fit_transform(plots_df['Plot'])\n",
    "cosine_sim =  cosine_similarity(tfidf_matrix, tfidf_matrix)\n",
    "indices = pd.Series(plots_df.index, index=plots_df['Title']).drop_duplicates()\n",
    "\n",
    "def get_recommendations(title, cosine_sim=cosine_sim):\n",
    "    idx = indices[title]\n",
    "    sim_scores = list(enumerate(cosine_sim[idx]))\n",
    "    sim_scores = sorted(sim_scores, key=lambda x: x[1], reverse=True)\n",
    "    sim_scores = sim_scores[1:3]\n",
    "    movies_indices = [ind[0] for ind in sim_scores]\n",
    "    movies = plots_df['Title'].iloc[movies_indices]\n",
    "    return movies\n",
    "\n",
    "print(\"Recommendations for Judge Dredd:\\n\")\n",
    "print(get_recommendations(\"Judge Dredd (1995)\"))"
   ]
  }
 ],
 "metadata": {
  "kernelspec": {
   "display_name": "Python 3 (ipykernel)",
   "language": "python",
   "name": "python3"
  },
  "language_info": {
   "codemirror_mode": {
    "name": "ipython",
    "version": 3
   },
   "file_extension": ".py",
   "mimetype": "text/x-python",
   "name": "python",
   "nbconvert_exporter": "python",
   "pygments_lexer": "ipython3",
   "version": "3.12.6"
  }
 },
 "nbformat": 4,
 "nbformat_minor": 5
}
