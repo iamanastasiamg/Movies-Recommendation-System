{
 "cells": [
  {
   "cell_type": "markdown",
   "id": "80316f9d-6c7e-4a83-98e3-47745f318e4f",
   "metadata": {},
   "source": [
    "### Recommender Systems – Exercise"
   ]
  },
  {
   "cell_type": "markdown",
   "id": "368998c0-fc50-4cc9-a19c-15caa1219037",
   "metadata": {},
   "source": [
    "##### Import the libraries necessary for this project."
   ]
  },
  {
   "cell_type": "code",
   "execution_count": 1,
   "id": "7b752176-267b-4c45-aca2-8a7727781137",
   "metadata": {},
   "outputs": [],
   "source": [
    "import numpy as np\n",
    "import pandas as pd\n",
    "from scipy.sparse import csr_matrix\n",
    "from scipy.sparse.linalg import svds\n",
    "from tqdm import tqdm\n",
    "from sklearn.metrics import mean_squared_error\n",
    "from sklearn.feature_extraction.text import TfidfVectorizer\n",
    "from sklearn.metrics.pairwise import cosine_similarity"
   ]
  },
  {
   "cell_type": "markdown",
   "id": "4374fca0-e4ba-4f49-973d-41650272bc19",
   "metadata": {},
   "source": [
    "##### Load the ratings, movies and plots datasets. Display the first 5 rows of the dataframes to get an overview of the data."
   ]
  },
  {
   "cell_type": "code",
   "execution_count": 2,
   "id": "92a5a7d6-9485-4568-8353-cc53ffd219cb",
   "metadata": {},
   "outputs": [
    {
     "data": {
      "text/html": [
       "<div>\n",
       "<style scoped>\n",
       "    .dataframe tbody tr th:only-of-type {\n",
       "        vertical-align: middle;\n",
       "    }\n",
       "\n",
       "    .dataframe tbody tr th {\n",
       "        vertical-align: top;\n",
       "    }\n",
       "\n",
       "    .dataframe thead th {\n",
       "        text-align: right;\n",
       "    }\n",
       "</style>\n",
       "<table border=\"1\" class=\"dataframe\">\n",
       "  <thead>\n",
       "    <tr style=\"text-align: right;\">\n",
       "      <th></th>\n",
       "      <th>UserID</th>\n",
       "      <th>MovieID</th>\n",
       "      <th>Rating</th>\n",
       "      <th>Timestamp</th>\n",
       "    </tr>\n",
       "  </thead>\n",
       "  <tbody>\n",
       "    <tr>\n",
       "      <th>0</th>\n",
       "      <td>1</td>\n",
       "      <td>122</td>\n",
       "      <td>5.0</td>\n",
       "      <td>838985046</td>\n",
       "    </tr>\n",
       "    <tr>\n",
       "      <th>1</th>\n",
       "      <td>1</td>\n",
       "      <td>185</td>\n",
       "      <td>5.0</td>\n",
       "      <td>838983525</td>\n",
       "    </tr>\n",
       "    <tr>\n",
       "      <th>2</th>\n",
       "      <td>1</td>\n",
       "      <td>231</td>\n",
       "      <td>5.0</td>\n",
       "      <td>838983392</td>\n",
       "    </tr>\n",
       "    <tr>\n",
       "      <th>3</th>\n",
       "      <td>1</td>\n",
       "      <td>292</td>\n",
       "      <td>5.0</td>\n",
       "      <td>838983421</td>\n",
       "    </tr>\n",
       "    <tr>\n",
       "      <th>4</th>\n",
       "      <td>1</td>\n",
       "      <td>316</td>\n",
       "      <td>5.0</td>\n",
       "      <td>838983392</td>\n",
       "    </tr>\n",
       "  </tbody>\n",
       "</table>\n",
       "</div>"
      ],
      "text/plain": [
       "   UserID  MovieID  Rating  Timestamp\n",
       "0       1      122     5.0  838985046\n",
       "1       1      185     5.0  838983525\n",
       "2       1      231     5.0  838983392\n",
       "3       1      292     5.0  838983421\n",
       "4       1      316     5.0  838983392"
      ]
     },
     "execution_count": 2,
     "metadata": {},
     "output_type": "execute_result"
    }
   ],
   "source": [
    "ratings_df = pd.read_csv('ml-10M100K/ratings.dat', sep='::', header=None, names=['UserID', 'MovieID', 'Rating', 'Timestamp'], engine='python')\n",
    "ratings_df.head()"
   ]
  },
  {
   "cell_type": "code",
   "execution_count": 3,
   "id": "9928c267-e222-4e90-93dc-c3a6cf4626a9",
   "metadata": {},
   "outputs": [
    {
     "data": {
      "text/html": [
       "<div>\n",
       "<style scoped>\n",
       "    .dataframe tbody tr th:only-of-type {\n",
       "        vertical-align: middle;\n",
       "    }\n",
       "\n",
       "    .dataframe tbody tr th {\n",
       "        vertical-align: top;\n",
       "    }\n",
       "\n",
       "    .dataframe thead th {\n",
       "        text-align: right;\n",
       "    }\n",
       "</style>\n",
       "<table border=\"1\" class=\"dataframe\">\n",
       "  <thead>\n",
       "    <tr style=\"text-align: right;\">\n",
       "      <th></th>\n",
       "      <th>MovieID</th>\n",
       "      <th>Title</th>\n",
       "      <th>Genres</th>\n",
       "    </tr>\n",
       "  </thead>\n",
       "  <tbody>\n",
       "    <tr>\n",
       "      <th>0</th>\n",
       "      <td>1</td>\n",
       "      <td>Toy Story (1995)</td>\n",
       "      <td>Adventure|Animation|Children|Comedy|Fantasy</td>\n",
       "    </tr>\n",
       "    <tr>\n",
       "      <th>1</th>\n",
       "      <td>2</td>\n",
       "      <td>Jumanji (1995)</td>\n",
       "      <td>Adventure|Children|Fantasy</td>\n",
       "    </tr>\n",
       "    <tr>\n",
       "      <th>2</th>\n",
       "      <td>3</td>\n",
       "      <td>Grumpier Old Men (1995)</td>\n",
       "      <td>Comedy|Romance</td>\n",
       "    </tr>\n",
       "    <tr>\n",
       "      <th>3</th>\n",
       "      <td>4</td>\n",
       "      <td>Waiting to Exhale (1995)</td>\n",
       "      <td>Comedy|Drama|Romance</td>\n",
       "    </tr>\n",
       "    <tr>\n",
       "      <th>4</th>\n",
       "      <td>5</td>\n",
       "      <td>Father of the Bride Part II (1995)</td>\n",
       "      <td>Comedy</td>\n",
       "    </tr>\n",
       "  </tbody>\n",
       "</table>\n",
       "</div>"
      ],
      "text/plain": [
       "   MovieID                               Title  \\\n",
       "0        1                    Toy Story (1995)   \n",
       "1        2                      Jumanji (1995)   \n",
       "2        3             Grumpier Old Men (1995)   \n",
       "3        4            Waiting to Exhale (1995)   \n",
       "4        5  Father of the Bride Part II (1995)   \n",
       "\n",
       "                                        Genres  \n",
       "0  Adventure|Animation|Children|Comedy|Fantasy  \n",
       "1                   Adventure|Children|Fantasy  \n",
       "2                               Comedy|Romance  \n",
       "3                         Comedy|Drama|Romance  \n",
       "4                                       Comedy  "
      ]
     },
     "execution_count": 3,
     "metadata": {},
     "output_type": "execute_result"
    }
   ],
   "source": [
    "movies_df = pd.read_csv('ml-10M100K/movies.dat', sep='::', header=None, names=['MovieID', 'Title', 'Genres'], engine='python')\n",
    "movies_df.head()"
   ]
  },
  {
   "cell_type": "code",
   "execution_count": 4,
   "id": "1950ca72-5ff5-45ee-9385-d63e4015db5a",
   "metadata": {},
   "outputs": [
    {
     "data": {
      "text/html": [
       "<div>\n",
       "<style scoped>\n",
       "    .dataframe tbody tr th:only-of-type {\n",
       "        vertical-align: middle;\n",
       "    }\n",
       "\n",
       "    .dataframe tbody tr th {\n",
       "        vertical-align: top;\n",
       "    }\n",
       "\n",
       "    .dataframe thead th {\n",
       "        text-align: right;\n",
       "    }\n",
       "</style>\n",
       "<table border=\"1\" class=\"dataframe\">\n",
       "  <thead>\n",
       "    <tr style=\"text-align: right;\">\n",
       "      <th></th>\n",
       "      <th>Release Year</th>\n",
       "      <th>Title</th>\n",
       "      <th>Origin/Ethnicity</th>\n",
       "      <th>Director</th>\n",
       "      <th>Cast</th>\n",
       "      <th>Genre</th>\n",
       "      <th>Wiki Page</th>\n",
       "      <th>Plot</th>\n",
       "    </tr>\n",
       "  </thead>\n",
       "  <tbody>\n",
       "    <tr>\n",
       "      <th>0</th>\n",
       "      <td>1901</td>\n",
       "      <td>Kansas Saloon Smashers</td>\n",
       "      <td>American</td>\n",
       "      <td>Unknown</td>\n",
       "      <td>NaN</td>\n",
       "      <td>unknown</td>\n",
       "      <td>https://en.wikipedia.org/wiki/Kansas_Saloon_Sm...</td>\n",
       "      <td>A bartender is working at a saloon, serving dr...</td>\n",
       "    </tr>\n",
       "    <tr>\n",
       "      <th>1</th>\n",
       "      <td>1901</td>\n",
       "      <td>Love by the Light of the Moon</td>\n",
       "      <td>American</td>\n",
       "      <td>Unknown</td>\n",
       "      <td>NaN</td>\n",
       "      <td>unknown</td>\n",
       "      <td>https://en.wikipedia.org/wiki/Love_by_the_Ligh...</td>\n",
       "      <td>The moon, painted with a smiling face hangs ov...</td>\n",
       "    </tr>\n",
       "    <tr>\n",
       "      <th>2</th>\n",
       "      <td>1901</td>\n",
       "      <td>The Martyred Presidents</td>\n",
       "      <td>American</td>\n",
       "      <td>Unknown</td>\n",
       "      <td>NaN</td>\n",
       "      <td>unknown</td>\n",
       "      <td>https://en.wikipedia.org/wiki/The_Martyred_Pre...</td>\n",
       "      <td>The film, just over a minute long, is composed...</td>\n",
       "    </tr>\n",
       "    <tr>\n",
       "      <th>3</th>\n",
       "      <td>1901</td>\n",
       "      <td>Terrible Teddy, the Grizzly King</td>\n",
       "      <td>American</td>\n",
       "      <td>Unknown</td>\n",
       "      <td>NaN</td>\n",
       "      <td>unknown</td>\n",
       "      <td>https://en.wikipedia.org/wiki/Terrible_Teddy,_...</td>\n",
       "      <td>Lasting just 61 seconds and consisting of two ...</td>\n",
       "    </tr>\n",
       "    <tr>\n",
       "      <th>4</th>\n",
       "      <td>1902</td>\n",
       "      <td>Jack and the Beanstalk</td>\n",
       "      <td>American</td>\n",
       "      <td>George S. Fleming, Edwin S. Porter</td>\n",
       "      <td>NaN</td>\n",
       "      <td>unknown</td>\n",
       "      <td>https://en.wikipedia.org/wiki/Jack_and_the_Bea...</td>\n",
       "      <td>The earliest known adaptation of the classic f...</td>\n",
       "    </tr>\n",
       "  </tbody>\n",
       "</table>\n",
       "</div>"
      ],
      "text/plain": [
       "   Release Year                             Title Origin/Ethnicity  \\\n",
       "0          1901            Kansas Saloon Smashers         American   \n",
       "1          1901     Love by the Light of the Moon         American   \n",
       "2          1901           The Martyred Presidents         American   \n",
       "3          1901  Terrible Teddy, the Grizzly King         American   \n",
       "4          1902            Jack and the Beanstalk         American   \n",
       "\n",
       "                             Director Cast    Genre  \\\n",
       "0                             Unknown  NaN  unknown   \n",
       "1                             Unknown  NaN  unknown   \n",
       "2                             Unknown  NaN  unknown   \n",
       "3                             Unknown  NaN  unknown   \n",
       "4  George S. Fleming, Edwin S. Porter  NaN  unknown   \n",
       "\n",
       "                                           Wiki Page  \\\n",
       "0  https://en.wikipedia.org/wiki/Kansas_Saloon_Sm...   \n",
       "1  https://en.wikipedia.org/wiki/Love_by_the_Ligh...   \n",
       "2  https://en.wikipedia.org/wiki/The_Martyred_Pre...   \n",
       "3  https://en.wikipedia.org/wiki/Terrible_Teddy,_...   \n",
       "4  https://en.wikipedia.org/wiki/Jack_and_the_Bea...   \n",
       "\n",
       "                                                Plot  \n",
       "0  A bartender is working at a saloon, serving dr...  \n",
       "1  The moon, painted with a smiling face hangs ov...  \n",
       "2  The film, just over a minute long, is composed...  \n",
       "3  Lasting just 61 seconds and consisting of two ...  \n",
       "4  The earliest known adaptation of the classic f...  "
      ]
     },
     "execution_count": 4,
     "metadata": {},
     "output_type": "execute_result"
    }
   ],
   "source": [
    "plots_df = pd.read_csv(\"datasets/wiki_movie_plots_deduped.csv\", encoding=\"utf-8\")\n",
    "plots_df.head()"
   ]
  },
  {
   "cell_type": "markdown",
   "id": "792ff2e8-0599-45ea-a07c-6f7bd6043fc8",
   "metadata": {},
   "source": [
    "##### Merge the two datasets on movieId and calculate the average rating for each genre."
   ]
  },
  {
   "cell_type": "code",
   "execution_count": 5,
   "id": "2302ecf1-5419-456c-a391-be68c86b93d8",
   "metadata": {},
   "outputs": [
    {
     "name": "stdout",
     "output_type": "stream",
     "text": [
      "The Top 5 Genres:\n",
      " Genre\n",
      "Film-Noir      4.012151\n",
      "Documentary    3.783459\n",
      "War            3.780173\n",
      "IMAX           3.764537\n",
      "Mystery        3.677631\n",
      "Name: Rating, dtype: float64\n"
     ]
    }
   ],
   "source": [
    "# Merge the ratings and movies dataframes on the MovieID column to combine dataframe with movie details alongside ratings information.\n",
    "df = pd.merge(ratings_df, movies_df, on='MovieID')\n",
    "\n",
    "# Split the Genres column, which contains multiple genres separated by '|', into separate rows, so that each genre is represented individually for each movie.\n",
    "# 'expand=True' ensures that each genre is split into a new column.\n",
    "# 'stack()' converts columns into rows.\n",
    "# 'reset_index(level=1, drop=True)' drops the old index column to maintain a clean format.\n",
    "df = df.join(df['Genres'].str.split('|', expand=True).stack().reset_index(level=1, drop=True).rename('Genre'))\n",
    "\n",
    "# Group by Genre and calculate the average rating for each genre for each genre group and sorts the genres by their average ratings in descending order.\n",
    "genre_ratings = df.groupby('Genre')['Rating'].mean().sort_values(ascending=False)\n",
    "\n",
    "# Print the top 5 genres based on the average rating.\n",
    "print(\"The Top 5 Genres:\\n\", genre_ratings.head(5))"
   ]
  },
  {
   "cell_type": "markdown",
   "id": "7990e8c0-631f-4637-9822-1a761747469c",
   "metadata": {},
   "source": [
    "##### Suggest five movies to a new user that are most popular and top rated."
   ]
  },
  {
   "cell_type": "code",
   "execution_count": 6,
   "id": "af09d203-398f-41b9-9058-0b8b5a1107c5",
   "metadata": {},
   "outputs": [
    {
     "name": "stdout",
     "output_type": "stream",
     "text": [
      "Five Movies Suggestions:\n",
      "                                             average_rating  num_ratings\n",
      "MovieID Title                                                          \n",
      "1       Toy Story (1995)                          3.928769       132245\n",
      "2       Jumanji (1995)                            3.208070        36096\n",
      "3       Grumpier Old Men (1995)                   3.150385        15580\n",
      "4       Waiting to Exhale (1995)                  2.860544         5292\n",
      "5       Father of the Bride Part II (1995)        3.077435         7135\n"
     ]
    }
   ],
   "source": [
    "def movies_suggestions(ratings_df, min_ratings=1000, top_n=5):\n",
    "    # Group by MovieID and Title and calculate the average rating and the count of ratings for each movie.\n",
    "    top_rated_movies = ratings_df.groupby(['MovieID','Title']).agg({'Rating': ['mean', 'count']})\n",
    "    # Rename the columns for easy access.\n",
    "    top_rated_movies.columns = ['average_rating', 'num_ratings']\n",
    "    # Filter movies that have received at least min_ratings number of ratings to ensure that only movies with sufficient user feedback are considered.\n",
    "    filtered_movies = top_rated_movies[top_rated_movies['num_ratings'] >= min_ratings]\n",
    "    # Return the top n movies based on their average rating after filtering for popular movies.\n",
    "    return filtered_movies.head(top_n)\n",
    "\n",
    "# Call the function and print the top 5 movie suggestions based on the criteria.\n",
    "print(\"Five Movies Suggestions:\\n\", movies_suggestions(df))"
   ]
  },
  {
   "cell_type": "markdown",
   "id": "0e605ce1-1957-43d5-824f-aa1bc4a693ed",
   "metadata": {},
   "source": [
    "##### Add the new user's ratings to the ratings table."
   ]
  },
  {
   "cell_type": "code",
   "execution_count": 7,
   "id": "3b460443-84fd-46bb-9e50-395f260ab79a",
   "metadata": {},
   "outputs": [
    {
     "name": "stdout",
     "output_type": "stream",
     "text": [
      "          UserID  MovieID  Rating  Timestamp\n",
      "10000054   71568      173     5.0        NaN\n",
      "10000055   71568      208     5.0        NaN\n",
      "10000056   71568       76     4.0        NaN\n",
      "10000057   71568        2     3.0        NaN\n"
     ]
    }
   ],
   "source": [
    "# Find the maximum UserID from the existing ratings dataframe and increase it by 1 to create a new UserID.\n",
    "new_user_id = ratings_df['UserID'].max() + 1\n",
    "\n",
    "# List of new ratings provided by the new user.\n",
    "new_ratings_list = [\n",
    "    {'Title': 'Judge Dredd', 'Rating': 5},\n",
    "    {'Title': 'Waterworld', 'Rating': 5},\n",
    "    {'Title': 'Screamers', 'Rating': 4},\n",
    "    {'Title': 'Jumanji', 'Rating': 3},\n",
    "]\n",
    "\n",
    "# Initialize empty lists to store the new ratings and any new movie entries.\n",
    "new_ratings = []\n",
    "new_movies = []\n",
    "\n",
    "# Iterate over the list of new ratings.\n",
    "for counter, rating in enumerate(new_ratings_list):\n",
    "    # Check if the movie exists in the movies dataframe.\n",
    "    if movies_df['Title'].str.contains(rating['Title']).any():\n",
    "        # If the movie exists, get the MovieID and add the new rating for the new user.\n",
    "        movie_row = movies_df[movies_df['Title'].str.contains(rating['Title'])]\n",
    "        new_ratings.append({'UserID': new_user_id, 'MovieID': movie_row['MovieID'].values[0], 'Rating': rating['Rating']})\n",
    "    else:\n",
    "        # If the movie does not exist in the dataframe, assign a new MovieID and create a new movie entry.\n",
    "        counter += 1 # Increment the counter for new MovieID.\n",
    "        new_movie_id = movies_df['MovieID'].max() + counter # Generate a new unique MovieID.\n",
    "        new_movies.append({'MovieID': new_movie_id, 'Title': rating['Title']}) # Add new movie to the new movies list.\n",
    "        # Add the new rating for the new movie to the ratings list.\n",
    "        new_ratings.append({'UserID': new_user_id, 'MovieID': new_movie_id, 'Rating': rating['Rating']})\n",
    "\n",
    "# Add new movies to movies table and new user ratings to ratings table.\n",
    "movies_df = pd.concat([movies_df, pd.DataFrame(new_movies)], ignore_index=True)\n",
    "ratings_df = pd.concat([ratings_df, pd.DataFrame(new_ratings)], ignore_index=True)\n",
    "\n",
    "# Print the ratings provided by the new user.\n",
    "print(ratings_df[ratings_df['UserID'] == new_user_id])"
   ]
  },
  {
   "cell_type": "markdown",
   "id": "6c827259-73c6-431f-845a-02fbb916b74b",
   "metadata": {},
   "source": [
    "##### The following code snippet provided in the course materials (matrix_factorization)."
   ]
  },
  {
   "cell_type": "code",
   "execution_count": 11,
   "id": "221b97bd-ef2c-4f9e-9f0e-9df3d8571dac",
   "metadata": {},
   "outputs": [
    {
     "name": "stderr",
     "output_type": "stream",
     "text": [
      "100%|██████████████████████████████████████████████████████████████████████████████████████████████████████████████████████████████████████████████████████████████████████████████████████████████| 10/10 [00:47<00:00,  4.77s/it]\n"
     ]
    },
    {
     "name": "stdout",
     "output_type": "stream",
     "text": [
      "Recommended movies for the new user: \n",
      " 1992                             Wizard of Oz, The (1939)\n",
      "5009                           Usual Suspects, The (1995)\n",
      "1158    Lord of the Rings: The Fellowship of the Ring,...\n",
      "7953                                 Trainspotting (1996)\n",
      "8333                                   Stand by Me (1986)\n",
      "Name: Title, dtype: object\n"
     ]
    }
   ],
   "source": [
    "import numpy as np\n",
    "import pandas as pd\n",
    "from tqdm import tqdm\n",
    "\n",
    "def matrix_factorization_with_regularization(ratings_df, n_factors=10, learning_rate=0.01, regularization=0.1, n_iterations=100):\n",
    "    \"\"\"Performs matrix factorization with L2 regularization using gradient descent.\"\"\"\n",
    "    \n",
    "    # Create mappings for UserIDs and MovieIDs to sequential indices.\n",
    "    # This will help us map the user and movie IDs to matrix indices.\n",
    "    user_map = {user_id: index for index, user_id in enumerate(ratings_df['UserID'].unique())}\n",
    "    movie_map = {movie_id: index for index, movie_id in enumerate(ratings_df['MovieID'].unique())}\n",
    "\n",
    "    n_users = len(user_map)  # Number of unique users.\n",
    "    n_movies = len(movie_map)  # Number of unique movies.\n",
    "\n",
    "    # Create the ratings matrix, initially filled with zeros.\n",
    "    ratings_matrix = np.zeros((n_users, n_movies))\n",
    "    \n",
    "    # Populate the ratings matrix with actual ratings from the dataframe.\n",
    "    for index, row in ratings_df.iterrows():\n",
    "        user_idx = user_map[row['UserID']]  # Get the index of the user in the matrix.\n",
    "        movie_idx = movie_map[row['MovieID']]  # Get the index of the movie in the matrix.\n",
    "        ratings_matrix[user_idx, movie_idx] = row['Rating']  # Fill the rating for this user-movie pair.\n",
    "\n",
    "    # Initialize user and movie latent factors randomly.\n",
    "    # These represent the \"hidden\" features that matrix factorization will uncover.\n",
    "    user_factors = np.random.rand(n_users, n_factors)\n",
    "    movie_factors = np.random.rand(n_movies, n_factors)\n",
    "\n",
    "    # Gradient descent loop.\n",
    "    for _ in tqdm(range(n_iterations)):\n",
    "        for u in range(n_users):  # Loop over all users.\n",
    "            for i in range(n_movies):  # Loop over all movies.\n",
    "                if ratings_matrix[u, i] > 0:  # Only update if there's a rating (non-zero entry).\n",
    "                    # Calculate the error (actual rating - predicted rating).\n",
    "                    error = ratings_matrix[u, i] - np.dot(user_factors[u], movie_factors[i])\n",
    "\n",
    "                    # Update the user and movie factors with gradient descent and regularization.\n",
    "                    user_factors[u] += learning_rate * (error * movie_factors[i] - regularization * user_factors[u])\n",
    "                    movie_factors[i] += learning_rate * (error * user_factors[u] - regularization * movie_factors[i])\n",
    "\n",
    "    return user_factors, movie_factors, user_map, movie_map\n",
    "\n",
    "def predict_rating(user_id, movie_id, user_factors, movie_factors, user_map, movie_map):\n",
    "    \"\"\"Predicts the rating for a given user-movie pair.\"\"\"\n",
    "    try:\n",
    "        # Get the index of the user and movie in the matrix.\n",
    "        user_idx = user_map[user_id]\n",
    "        movie_idx = movie_map[movie_id]\n",
    "        # Predict the rating by taking the dot product of the corresponding user and movie factors.\n",
    "        return np.dot(user_factors[user_idx], movie_factors[movie_idx])\n",
    "    except KeyError:\n",
    "        # If the user or movie is not found in the map, return None (i.e., unable to predict).\n",
    "        return None\n",
    "\n",
    "# Use a small sample of the ratings dataframe for quick testing.\n",
    "ratings_df_small = ratings_df.sample(frac=0.001, random_state=42)\n",
    "# Perform matrix factorization on the sample data.\n",
    "user_factors, movie_factors, user_map, movie_map = matrix_factorization_with_regularization(ratings_df_small, regularization=0.01, n_iterations=10)\n",
    "# Predict ratings for all user-movie pairs in the sample.\n",
    "ratings_df_small['predicted'] = ratings_df_small.apply(\n",
    "    lambda x: predict_rating(int(x['UserID']), int(x['MovieID']), user_factors, movie_factors, user_map, movie_map),\n",
    "    axis=1\n",
    ")\n",
    "\n",
    "# Calculate the squared error between the actual rating and predicted rating.\n",
    "ratings_df_small['squared_error'] = (ratings_df_small['Rating'] - ratings_df_small['predicted'])**2\n",
    "# Display the first few rows of the dataframe to check the results.\n",
    "ratings_df_small.head()\n",
    "# Predict ratings for a new user.\n",
    "# Merge the predicted ratings with movie titles for easy viewing.\n",
    "top_movies = pd.merge(ratings_df_small, movies_df, on='MovieID')\n",
    "# Sort the movies by predicted rating in descending order to recommend top-rated ones.\n",
    "top_movies = top_movies.sort_values(by=['predicted'], ascending=False)\n",
    "\n",
    "# Display the top 5 recommended movies for the new user.\n",
    "print(\"Recommended movies for the new user: \\n\", top_movies['Title'][:5])"
   ]
  },
  {
   "cell_type": "markdown",
   "id": "b000a663-4ac2-4f49-8780-5551e4941a66",
   "metadata": {},
   "source": [
    "##### Content-based Filtering"
   ]
  },
  {
   "cell_type": "code",
   "execution_count": 9,
   "id": "9921e74b-f8fb-483a-b631-2b6a056f5cf1",
   "metadata": {},
   "outputs": [
    {
     "name": "stdout",
     "output_type": "stream",
     "text": [
      "Recommendations for Judge Dredd:\n",
      "\n",
      "21246            Dredd (2012)\n",
      "1154     Little Caesar (1931)\n",
      "Name: Title, dtype: object\n"
     ]
    }
   ],
   "source": [
    "# Combine the movie title with the release year for a more descriptive title.\n",
    "plots_df['Title'] = plots_df['Title'] + ' (' + plots_df['Release Year'].astype(str) + ')'\n",
    "# Initialize the TF-IDF Vectorizer, excluding common stop words.\n",
    "tfidf = TfidfVectorizer(stop_words=\"english\")\n",
    "# Fill any missing plot descriptions with an empty string.\n",
    "plots_df['Plot'] = plots_df['Plot'].fillna(\"\")\n",
    "# Transform the Plot column into a matrix of TF-IDF features.\n",
    "tfidf_matrix = tfidf.fit_transform(plots_df['Plot'])\n",
    "# Calculate the cosine similarity between the TF-IDF vectors.\n",
    "cosine_sim = cosine_similarity(tfidf_matrix, tfidf_matrix)\n",
    "# Create an index for fast lookup of movie titles.\n",
    "indices = pd.Series(plots_df.index, index=plots_df['Title']).drop_duplicates()\n",
    "\n",
    "def get_recommendations(title, cosine_sim=cosine_sim):\n",
    "    \"\"\"\n",
    "    Given a movie title, return the top 2 most similar movies based on cosine similarity.\n",
    "    \"\"\"\n",
    "    # Get the index of the movie from the title.\n",
    "    idx = indices[title]\n",
    "    # Get the similarity scores for all movies with the given movie.\n",
    "    sim_scores = list(enumerate(cosine_sim[idx]))\n",
    "    # Sort the movies based on similarity scores in descending order.\n",
    "    sim_scores = sorted(sim_scores, key=lambda x: x[1], reverse=True)\n",
    "    # Get the indices of the top 2 most similar movies.\n",
    "    sim_scores = sim_scores[1:3]\n",
    "    # Extract the movie indices from the similarity scores.\n",
    "    movies_indices = [ind[0] for ind in sim_scores]\n",
    "    # Return the titles of the most similar movies.\n",
    "    movies = plots_df['Title'].iloc[movies_indices]\n",
    "    return movies\n",
    "\n",
    "# Get recommendations for the movie \"Judge Dredd (1995)\".\n",
    "print(\"Recommendations for Judge Dredd:\\n\")\n",
    "print(get_recommendations(\"Judge Dredd (1995)\"))"
   ]
  }
 ],
 "metadata": {
  "kernelspec": {
   "display_name": "Python 3 (ipykernel)",
   "language": "python",
   "name": "python3"
  },
  "language_info": {
   "codemirror_mode": {
    "name": "ipython",
    "version": 3
   },
   "file_extension": ".py",
   "mimetype": "text/x-python",
   "name": "python",
   "nbconvert_exporter": "python",
   "pygments_lexer": "ipython3",
   "version": "3.12.6"
  }
 },
 "nbformat": 4,
 "nbformat_minor": 5
}
